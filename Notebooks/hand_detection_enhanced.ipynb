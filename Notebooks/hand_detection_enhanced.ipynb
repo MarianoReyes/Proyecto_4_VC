{
 "cells": [
  {
   "cell_type": "code",
   "execution_count": null,
   "id": "1807ed8b",
   "metadata": {},
   "source": [
    "\n",
    "# Instalación de dependencias\n",
    "!pip install tensorflow opencv-python-headless matplotlib\n"
   ],
   "outputs": []
  },
  {
   "cell_type": "code",
   "execution_count": null,
   "id": "08f3e311",
   "metadata": {},
   "source": [
    "\n",
    "import tensorflow as tf\n",
    "from tensorflow.keras.preprocessing.image import ImageDataGenerator\n",
    "from tensorflow.keras.models import Sequential\n",
    "from tensorflow.keras.layers import Conv2D, MaxPooling2D, Flatten, Dense\n",
    "from tensorflow.keras.preprocessing import image\n",
    "import numpy as np\n",
    "import cv2\n"
   ],
   "outputs": []
  },
  {
   "cell_type": "code",
   "execution_count": null,
   "id": "7cc7cf0a",
   "metadata": {},
   "source": [
    "\n",
    "# Definir los generadores de imágenes para entrenamiento y validación\n",
    "train_datagen = ImageDataGenerator(rescale=1./255)\n",
    "validation_datagen = ImageDataGenerator(rescale=1./255)\n",
    "\n",
    "train_generator = train_datagen.flow_from_directory(\n",
    "    'path/to/train_data',  # Ruta a tus datos de entrenamiento\n",
    "    target_size=(150, 150),\n",
    "    batch_size=32,\n",
    "    class_mode='categorical')\n",
    "\n",
    "validation_generator = validation_datagen.flow_from_directory(\n",
    "    'path/to/validation_data',  # Ruta a tus datos de validación\n",
    "    target_size=(150, 150),\n",
    "    batch_size=32,\n",
    "    class_mode='categorical')\n"
   ],
   "outputs": []
  },
  {
   "cell_type": "code",
   "execution_count": null,
   "id": "ec8c5613",
   "metadata": {},
   "source": [
    "\n",
    "# Construir el modelo\n",
    "model = Sequential([\n",
    "    Conv2D(32, (3, 3), activation='relu', input_shape=(150, 150, 3)),\n",
    "    MaxPooling2D((2, 2)),\n",
    "    Conv2D(64, (3, 3), activation='relu'),\n",
    "    MaxPooling2D((2, 2)),\n",
    "    Conv2D(128, (3, 3), activation='relu'),\n",
    "    MaxPooling2D((2, 2)),\n",
    "    Flatten(),\n",
    "    Dense(512, activation='relu'),\n",
    "    Dense(6, activation='softmax')  # Suponiendo 6 clases de números de dedos\n",
    "])\n",
    "\n",
    "model.compile(optimizer='adam', loss='categorical_crossentropy', metrics=['accuracy'])\n"
   ],
   "outputs": []
  },
  {
   "cell_type": "code",
   "execution_count": null,
   "id": "5dad9c1e",
   "metadata": {},
   "source": [
    "\n",
    "# Entrenar el modelo\n",
    "history = model.fit(\n",
    "    train_generator,\n",
    "    steps_per_epoch=train_generator.samples // train_generator.batch_size,\n",
    "    validation_data=validation_generator,\n",
    "    validation_steps=validation_generator.samples // validation_generator.batch_size,\n",
    "    epochs=25)\n",
    "\n",
    "# Guardar el modelo\n",
    "model.save('hand_number_model.h5')\n"
   ],
   "outputs": []
  },
  {
   "cell_type": "code",
   "execution_count": null,
   "id": "cadeeeb1",
   "metadata": {},
   "source": [
    "\n",
    "# Real-time detection\n",
    "# Cargar el modelo\n",
    "model = tf.keras.models.load_model('hand_number_model.h5')\n",
    "\n",
    "# Iniciar la captura de video\n",
    "cap = cv2.VideoCapture(0)\n",
    "\n",
    "while True:\n",
    "    ret, frame = cap.read()\n",
    "    if not ret:\n",
    "        break\n",
    "\n",
    "    # Preprocesamiento de la imagen\n",
    "    img = cv2.resize(frame, (150, 150))\n",
    "    img = image.img_to_array(img)\n",
    "    img = np.expand_dims(img, axis=0)\n",
    "    img /= 255.0\n",
    "\n",
    "    # Realizar la predicción\n",
    "    prediction = model.predict(img)\n",
    "    class_index = np.argmax(prediction)\n",
    "\n",
    "    # Mostrar la predicción en el video\n",
    "    cv2.putText(frame, f'Digits: {class_index}', (50, 50), cv2.FONT_HERSHEY_SIMPLEX, 1, (255, 0, 0), 2)\n",
    "\n",
    "    # Mostrar el video\n",
    "    cv2.imshow('Video', frame)\n",
    "    if cv2.waitKey(1) & 0xFF == ord('q'):\n",
    "        break\n",
    "\n",
    "# Liberar la cámara y cerrar todas las ventanas\n",
    "cap.release()\n",
    "cv2.destroyAllWindows()\n"
   ],
   "outputs": []
  }
 ],
 "metadata": {},
 "nbformat": 4,
 "nbformat_minor": 5
}
