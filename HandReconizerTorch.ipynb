{
 "cells": [
  {
   "cell_type": "code",
   "execution_count": 96,
   "metadata": {},
   "outputs": [],
   "source": [
    "import os\n",
    "import torch\n",
    "import numpy as np\n",
    "import torch.nn as nn\n",
    "import torch.nn.functional as F\n",
    "from torch.utils.data import Dataset, DataLoader\n",
    "from sklearn.metrics import confusion_matrix\n",
    "from sklearn.model_selection import train_test_split\n",
    "import seaborn as sns\n",
    "import matplotlib.pyplot as plt\n",
    "from PIL import Image\n",
    "from torchvision import transforms"
   ]
  },
  {
   "cell_type": "code",
   "execution_count": 97,
   "metadata": {},
   "outputs": [
    {
     "name": "stdout",
     "output_type": "stream",
     "text": [
      "Using cuda device\n"
     ]
    }
   ],
   "source": [
    "if torch.cuda.is_available():\n",
    "    device = \"cuda\"\n",
    "else:\n",
    "    device = \"cpu\"\n",
    "\n",
    "print(\"Using {} device\".format(device))"
   ]
  },
  {
   "cell_type": "code",
   "execution_count": 98,
   "metadata": {},
   "outputs": [],
   "source": [
    "\n",
    "\n",
    "def load_data(dataset_path):\n",
    "    data = []\n",
    "    labels = []\n",
    "\n",
    "    for folder in range(0,6):\n",
    "        print(\"Cargando carpeta: \", folder)\n",
    "        folder_path = os.path.join(dataset_path, str(folder))\n",
    "        for filename in os.listdir(folder_path):\n",
    "            if filename.endswith(\".jpg\"):\n",
    "                complete_path = os.path.join(folder_path, filename)\n",
    "                data.append(complete_path)\n",
    "                labels.append(folder)  # Usa el nombre de la carpeta como etiqueta\n",
    "\n",
    "\n",
    "    print(\"Número de archivos cargados: \", len(data))\n",
    "    print(\"Número de etiquetas cargadas: \", len(labels))\n",
    "    # Print cantidad de datos flac\n",
    "\n",
    "    return data, labels\n",
    "\n",
    "\n"
   ]
  },
  {
   "cell_type": "code",
   "execution_count": 99,
   "metadata": {},
   "outputs": [],
   "source": [
    "import imgaug.augmenters as iaa\n",
    "import random\n",
    "\n",
    "def augment_data(image_paths, labels, target_count=500):\n",
    "    augmenter = iaa.Sequential([\n",
    "        iaa.Fliplr(0.5),\n",
    "        iaa.Flipud(0.5),\n",
    "        iaa.Affine(rotate=(-25, 25)),\n",
    "        iaa.Multiply((0.8, 1.2)),\n",
    "        iaa.GaussianBlur(sigma=(0, 3.0))\n",
    "    ])\n",
    "\n",
    "    augmented_images = []\n",
    "    augmented_labels = []\n",
    "\n",
    "    label_count = {i: labels.count(i) for i in set(labels)}\n",
    "\n",
    "    for label, count in label_count.items():\n",
    "        if count < target_count:\n",
    "            needed = target_count - count\n",
    "            label_indices = [i for i, l in enumerate(labels) if l == label]\n",
    "            chosen_indices = random.choices(label_indices, k=needed)\n",
    "            \n",
    "            for idx in chosen_indices:\n",
    "                image_path = image_paths[idx]\n",
    "                image = Image.open(image_path)\n",
    "                image_np = np.array(image)\n",
    "                \n",
    "                augmented_image_np = augmenter(image=image_np)\n",
    "                augmented_image = Image.fromarray(augmented_image_np)\n",
    "                \n",
    "                augmented_image_path = f\"{image_path}_aug_{idx}.jpg\"\n",
    "                augmented_image.save(augmented_image_path)\n",
    "                \n",
    "                augmented_images.append(augmented_image_path)\n",
    "                augmented_labels.append(label)\n",
    "\n",
    "    return augmented_images, augmented_labels\n"
   ]
  },
  {
   "cell_type": "code",
   "execution_count": 100,
   "metadata": {},
   "outputs": [],
   "source": [
    "# Definir el Dataset personalizado\n",
    "class CustomImageDataset(Dataset):\n",
    "    def __init__(self, image_paths, labels, transform=None):\n",
    "        self.image_paths = image_paths\n",
    "        self.labels = labels\n",
    "        self.transform = transform\n",
    "\n",
    "    def __len__(self):\n",
    "        return len(self.image_paths)\n",
    "\n",
    "    def __getitem__(self, idx):\n",
    "        image_path = self.image_paths[idx]\n",
    "        image = Image.open(image_path)\n",
    "        image = image.convert(\"RGB\")\n",
    "        image = image.resize((128, 128))\n",
    "        \n",
    "        label = self.labels[idx]\n",
    "\n",
    "        label = torch.tensor(label, dtype=torch.long)\n",
    "\n",
    "        if self.transform:\n",
    "            image = self.transform(image)\n",
    "\n",
    "        return image, label"
   ]
  },
  {
   "cell_type": "code",
   "execution_count": 101,
   "metadata": {},
   "outputs": [
    {
     "name": "stdout",
     "output_type": "stream",
     "text": [
      "Cargando carpeta:  0\n",
      "Cargando carpeta:  1\n",
      "Cargando carpeta:  2\n",
      "Cargando carpeta:  3\n",
      "Cargando carpeta:  4\n",
      "Cargando carpeta:  5\n",
      "Número de archivos cargados:  1637\n",
      "Número de etiquetas cargadas:  1637\n",
      "Conteo final de datos por categoría: {0: 500, 1: 500, 2: 500, 3: 500, 4: 500, 5: 500}\n"
     ]
    }
   ],
   "source": [
    "# Ruta del dataset\n",
    "dataset_path = './data'\n",
    "\n",
    "# Cargar datos y etiquetas\n",
    "image_paths, labels = load_data(dataset_path)\n",
    "augmented_image_paths, augmented_labels = augment_data(image_paths, labels, target_count=500)\n",
    "\n",
    "# Añadir los datos aumentados a las listas originales\n",
    "image_paths.extend(augmented_image_paths)\n",
    "labels.extend(augmented_labels)\n",
    "\n",
    "# Verificar el conteo final de datos por categoría\n",
    "final_count = {i: labels.count(i) for i in set(labels)}\n",
    "print(\"Conteo final de datos por categoría:\", final_count)\n"
   ]
  },
  {
   "cell_type": "code",
   "execution_count": 102,
   "metadata": {},
   "outputs": [
    {
     "data": {
      "text/plain": [
       "Counter({0: 500, 1: 500, 2: 500, 3: 500, 4: 500, 5: 500})"
      ]
     },
     "execution_count": 102,
     "metadata": {},
     "output_type": "execute_result"
    }
   ],
   "source": [
    "from collections import Counter\n",
    "\n",
    "# Contar las categorías\n",
    "conteo = Counter(labels)\n",
    "conteo"
   ]
  },
  {
   "cell_type": "code",
   "execution_count": 103,
   "metadata": {},
   "outputs": [
    {
     "name": "stdout",
     "output_type": "stream",
     "text": [
      "torch.Size([3, 128, 128])\n",
      "tensor(1)\n"
     ]
    }
   ],
   "source": [
    "\n",
    "# Dividir en entrenamiento y prueba \n",
    "train_data, test_data, train_labels, test_labels = train_test_split(image_paths, labels, test_size=0.2)\n",
    "\n",
    "\n",
    "# Definir transformaciones (puedes ajustarlas según tus necesidades)\n",
    "transform = transforms.Compose([\n",
    "    transforms.Resize((128, 128)),\n",
    "    transforms.ToTensor(),\n",
    "    transforms.Normalize(mean=[0.5, 0.5, 0.5], std=[0.5, 0.5, 0.5]), # Normalizar los valores de los pixeles a un rango de -1 a 1\n",
    "])\n",
    "\n",
    "# Crear una instancia del dataset\n",
    "batch_size = 128\n",
    "\n",
    "train_dataset = CustomImageDataset(train_data, train_labels, transform=transform)\n",
    "train_loader = DataLoader(train_dataset, batch_size=batch_size, shuffle=True)\n",
    "\n",
    "test_dataset = CustomImageDataset(test_data, test_labels, transform=transform)\n",
    "test_loader = DataLoader(test_dataset, batch_size=batch_size, shuffle=True)\n",
    "\n",
    "print(train_dataset[0][0].shape)\n",
    "print(train_dataset[0][1])\n"
   ]
  },
  {
   "cell_type": "code",
   "execution_count": 104,
   "metadata": {},
   "outputs": [],
   "source": [
    "\n",
    "\n",
    "class ConvNet(nn.Module):\n",
    "    def __init__(self,input_chanels,image_size,num_classes):\n",
    "        super(ConvNet, self).__init__()\n",
    "        self.conv1 = nn.Conv2d(in_channels=input_chanels, out_channels=32, kernel_size=3, stride=1, padding=1)\n",
    "        self.bn1 = nn.BatchNorm2d(32)\n",
    "        self.dropout1 = nn.Dropout2d(0.25)\n",
    "        \n",
    "        self.conv2 = nn.Conv2d(in_channels=32, out_channels=64, kernel_size=3, stride=1, padding=1)\n",
    "        self.bn2 = nn.BatchNorm2d(64)\n",
    "        self.dropout2 = nn.Dropout2d(0.25)\n",
    "        \n",
    "        self.conv3 = nn.Conv2d(in_channels=64, out_channels=128, kernel_size=3, stride=1, padding=1)\n",
    "        self.bn3 = nn.BatchNorm2d(128)\n",
    "        self.dropout3 = nn.Dropout2d(0.25)\n",
    "        \n",
    "        self.conv4 = nn.Conv2d(in_channels=128, out_channels=256, kernel_size=3, stride=1, padding=1)\n",
    "        self.bn4 = nn.BatchNorm2d(256)\n",
    "        self.dropout4 = nn.Dropout2d(0.25)\n",
    "        \n",
    "        self.pool = nn.MaxPool2d(kernel_size=2, stride=2, padding=0)\n",
    "        \n",
    "        output_size = image_size // 2**4\n",
    "        self.fc1 = nn.Linear(256 * output_size * output_size, 512)  # Assuming input image size is 128x128\n",
    "        self.fc2 = nn.Linear(512, num_classes)\n",
    "    \n",
    "    def forward(self, x):\n",
    "        x = self.pool(F.relu(self.bn1(self.conv1(x))))\n",
    "        x = self.dropout1(x)\n",
    "        \n",
    "        x = self.pool(F.relu(self.bn2(self.conv2(x))))\n",
    "        x = self.dropout2(x)\n",
    "        \n",
    "        x = self.pool(F.relu(self.bn3(self.conv3(x))))\n",
    "        x = self.dropout3(x)\n",
    "        \n",
    "        x = self.pool(F.relu(self.bn4(self.conv4(x))))\n",
    "        x = self.dropout4(x)\n",
    "        \n",
    "        x = x.view(x.size(0),-1)  # Flatten the tensor\n",
    "        x = F.relu(self.fc1(x))\n",
    "        x = self.fc2(x)\n",
    "        \n",
    "        return F.log_softmax(x, dim=1)\n",
    "\n"
   ]
  },
  {
   "cell_type": "code",
   "execution_count": 105,
   "metadata": {},
   "outputs": [
    {
     "name": "stdout",
     "output_type": "stream",
     "text": [
      "ConvNet(\n",
      "  (conv1): Conv2d(3, 32, kernel_size=(3, 3), stride=(1, 1), padding=(1, 1))\n",
      "  (bn1): BatchNorm2d(32, eps=1e-05, momentum=0.1, affine=True, track_running_stats=True)\n",
      "  (dropout1): Dropout2d(p=0.25, inplace=False)\n",
      "  (conv2): Conv2d(32, 64, kernel_size=(3, 3), stride=(1, 1), padding=(1, 1))\n",
      "  (bn2): BatchNorm2d(64, eps=1e-05, momentum=0.1, affine=True, track_running_stats=True)\n",
      "  (dropout2): Dropout2d(p=0.25, inplace=False)\n",
      "  (conv3): Conv2d(64, 128, kernel_size=(3, 3), stride=(1, 1), padding=(1, 1))\n",
      "  (bn3): BatchNorm2d(128, eps=1e-05, momentum=0.1, affine=True, track_running_stats=True)\n",
      "  (dropout3): Dropout2d(p=0.25, inplace=False)\n",
      "  (conv4): Conv2d(128, 256, kernel_size=(3, 3), stride=(1, 1), padding=(1, 1))\n",
      "  (bn4): BatchNorm2d(256, eps=1e-05, momentum=0.1, affine=True, track_running_stats=True)\n",
      "  (dropout4): Dropout2d(p=0.25, inplace=False)\n",
      "  (pool): MaxPool2d(kernel_size=2, stride=2, padding=0, dilation=1, ceil_mode=False)\n",
      "  (fc1): Linear(in_features=16384, out_features=512, bias=True)\n",
      "  (fc2): Linear(in_features=512, out_features=6, bias=True)\n",
      ")\n"
     ]
    }
   ],
   "source": [
    "model = ConvNet(input_chanels=3,image_size=128,num_classes=6).to(device)\n",
    "model.to(device)\n",
    "criterion = nn.CrossEntropyLoss()\n",
    "optimizer = torch.optim.Adam(model.parameters(), lr=0.001)\n",
    "\n",
    "print(model)"
   ]
  },
  {
   "cell_type": "code",
   "execution_count": 106,
   "metadata": {},
   "outputs": [],
   "source": [
    "def calculate_accuracy(y_true, y_pred):\n",
    "    y_pred = torch.log_softmax(y_pred, dim=1)\n",
    "    _, y_pred = torch.max(y_pred, dim=1)\n",
    "    correct_pred = (y_true == y_pred).float()\n",
    "    accuracy = correct_pred.sum() / len(correct_pred)\n",
    "    return accuracy\n",
    "\n",
    "def train_single_epoch(model, data_loader, optimiser, device):\n",
    "    model.train().to(device)\n",
    "    losses = []\n",
    "    accuracies = []\n",
    "    for input, target in data_loader:\n",
    "        input, target = input.to(device), target.to(device)\n",
    "\n",
    "        # calculate output and loss\n",
    "        prediction = model(input)\n",
    "        prediction = prediction.to(device)\n",
    "        loss = nn.CrossEntropyLoss()(prediction, target)\n",
    "\n",
    "        # backpropagate error and update weights\n",
    "        optimiser.zero_grad()\n",
    "        loss.backward()\n",
    "        optimiser.step()\n",
    "\n",
    "        acc = calculate_accuracy(target, prediction)\n",
    "        accuracies.append(acc.item())\n",
    "        \n",
    "    avg_acc = sum(accuracies) / len(accuracies)\n",
    "    print(f\"Training Accuracy: {avg_acc}\")\n",
    "    return avg_acc\n",
    "\n",
    "def validate(model, data_loader, device):\n",
    "    model.eval().to(device)\n",
    "    accuracies = []\n",
    "    with torch.no_grad():\n",
    "        for input, target in data_loader:\n",
    "            input, target = input.to(device), target.to(device)\n",
    "\n",
    "            # calculate output\n",
    "            prediction = model(input)\n",
    "            acc = calculate_accuracy(target, prediction)\n",
    "            accuracies.append(acc.item())\n",
    "            \n",
    "    avg_acc = sum(accuracies) / len(accuracies)\n",
    "    print(f\"Validation Accuracy: {avg_acc}\")\n",
    "    return avg_acc\n",
    "\n",
    "def train(model, train_loader, valid_loader, optimiser, device, epochs):\n",
    "    model.to(device)\n",
    "    train_accuracies = []\n",
    "    valid_accuracies = []\n",
    "    for i in range(epochs):\n",
    "        print(f\"Epoch {i+1}\")\n",
    "        train_acc = train_single_epoch(model, train_loader, optimiser, device)\n",
    "        valid_acc = validate(model, valid_loader, device)\n",
    "        train_accuracies.append(train_acc)\n",
    "        valid_accuracies.append(valid_acc)\n",
    "        print(\"---------------------------\")\n",
    "    print(\"Finished training\")\n",
    "\n",
    "    # Plotting the learning curve\n",
    "    plt.plot(train_accuracies, label='Training Accuracy')\n",
    "    plt.plot(valid_accuracies, label='Validation Accuracy')\n",
    "    plt.legend()\n",
    "    plt.show()\n",
    "\n",
    "\n"
   ]
  },
  {
   "cell_type": "code",
   "execution_count": 107,
   "metadata": {},
   "outputs": [
    {
     "name": "stdout",
     "output_type": "stream",
     "text": [
      "Epoch 1\n",
      "Training Accuracy: 0.3100328947368421\n",
      "Validation Accuracy: 0.37954545617103574\n",
      "---------------------------\n",
      "Epoch 2\n",
      "Training Accuracy: 0.4168037285930232\n",
      "Validation Accuracy: 0.44133522510528567\n",
      "---------------------------\n",
      "Epoch 3\n",
      "Training Accuracy: 0.5023300443824968\n",
      "Validation Accuracy: 0.4723011374473572\n",
      "---------------------------\n",
      "Epoch 4\n",
      "Training Accuracy: 0.5204221512141981\n",
      "Validation Accuracy: 0.4836647748947144\n",
      "---------------------------\n",
      "Epoch 5\n",
      "Training Accuracy: 0.5603070196352506\n",
      "Validation Accuracy: 0.5764204621315002\n",
      "---------------------------\n",
      "Epoch 6\n",
      "Training Accuracy: 0.5870339933194613\n",
      "Validation Accuracy: 0.5752840995788574\n",
      "---------------------------\n",
      "Epoch 7\n",
      "Training Accuracy: 0.601288378238678\n",
      "Validation Accuracy: 0.6247159123420716\n",
      "---------------------------\n",
      "Epoch 8\n",
      "Training Accuracy: 0.6207510985826191\n",
      "Validation Accuracy: 0.6559659123420716\n",
      "---------------------------\n",
      "Epoch 9\n",
      "Training Accuracy: 0.6376096512141981\n",
      "Validation Accuracy: 0.6674715995788574\n",
      "---------------------------\n",
      "Epoch 10\n",
      "Training Accuracy: 0.6522752203439411\n",
      "Validation Accuracy: 0.6833806872367859\n",
      "---------------------------\n",
      "Epoch 11\n",
      "Training Accuracy: 0.6800986842105263\n",
      "Validation Accuracy: 0.6833806872367859\n",
      "---------------------------\n",
      "Epoch 12\n",
      "Training Accuracy: 0.7164199571860465\n",
      "Validation Accuracy: 0.7160511374473572\n",
      "---------------------------\n",
      "Epoch 13\n",
      "Training Accuracy: 0.7367050459510401\n",
      "Validation Accuracy: 0.7231534123420715\n",
      "---------------------------\n",
      "Epoch 14\n",
      "Training Accuracy: 0.7461622827931454\n",
      "Validation Accuracy: 0.7498579621315002\n",
      "---------------------------\n",
      "Epoch 15\n",
      "Training Accuracy: 0.7424616248984086\n",
      "Validation Accuracy: 0.724431824684143\n",
      "---------------------------\n",
      "Epoch 16\n",
      "Training Accuracy: 0.7624725887649938\n",
      "Validation Accuracy: 0.765056824684143\n",
      "---------------------------\n",
      "Epoch 17\n",
      "Training Accuracy: 0.7705592105263158\n",
      "Validation Accuracy: 0.7583806872367859\n",
      "---------------------------\n",
      "Epoch 18\n",
      "Training Accuracy: 0.7846765361334148\n",
      "Validation Accuracy: 0.7741477370262146\n",
      "---------------------------\n",
      "Epoch 19\n",
      "Training Accuracy: 0.8082510985826191\n",
      "Validation Accuracy: 0.7644886374473572\n",
      "---------------------------\n",
      "Epoch 20\n",
      "Training Accuracy: 0.8103070196352506\n",
      "Validation Accuracy: 0.7640625\n",
      "---------------------------\n",
      "Finished training\n"
     ]
    },
    {
     "data": {
      "image/png": "[encoded data removed]",
      "text/plain": [
       "<Figure size 640x480 with 1 Axes>"
      ]
     },
     "metadata": {},
     "output_type": "display_data"
    }
   ],
   "source": [
    "train(model, train_loader, test_loader, optimizer, device, epochs=20)"
   ]
  },
  {
   "cell_type": "code",
   "execution_count": 108,
   "metadata": {},
   "outputs": [],
   "source": [
    "torch.save(model.state_dict(), 'hand_torch_modelv3.pth')"
   ]
  },
  {
   "cell_type": "code",
   "execution_count": 109,
   "metadata": {},
   "outputs": [
    {
     "name": "stdout",
     "output_type": "stream",
     "text": [
      "[[103   0   0   0   0   0]\n",
      " [  0  90  15   5   0   0]\n",
      " [  0  35  39  23   0   3]\n",
      " [  0   5   9  78   1   4]\n",
      " [  0   0   3  14  70  13]\n",
      " [  0   1   0   8   2  79]]\n"
     ]
    },
    {
     "data": {
      "image/png": "[encoded data removed]",
      "text/plain": [
       "<Figure size 1000x700 with 2 Axes>"
      ]
     },
     "metadata": {},
     "output_type": "display_data"
    }
   ],
   "source": [
    "\n",
    "\n",
    "def get_predictions(model, data_loader, device):\n",
    "    model.eval()\n",
    "    predictions = []\n",
    "    true_labels = []\n",
    "    with torch.no_grad():\n",
    "        for input, target in data_loader:\n",
    "            input, target = input.to(device), target.to(device)\n",
    "            prediction = model(input)\n",
    "            _, prediction = torch.max(prediction, dim=1)\n",
    "            predictions.extend(prediction.cpu().numpy())\n",
    "            true_labels.extend(target.cpu().numpy())\n",
    "    return predictions, true_labels\n",
    "\n",
    "\n",
    "\n",
    "predictions, true_labels = get_predictions(model, test_loader, device)\n",
    "conf_matrix = confusion_matrix(true_labels, predictions)\n",
    "\n",
    "print(conf_matrix)\n",
    "\n",
    "labels = [\"0\", \"1\", \"2\", \"3\", \"4\", \"5\"]\n",
    "plt.figure(figsize=(10,7))\n",
    "sns.heatmap(conf_matrix, annot=True, fmt=\"d\", xticklabels=labels, yticklabels=labels)\n",
    "plt.xlabel(\"Predicted\")\n",
    "plt.ylabel(\"Actual\")\n",
    "plt.show()\n"
   ]
  }
 ],
 "metadata": {
  "kernelspec": {
   "display_name": "Python 3",
   "language": "python",
   "name": "python3"
  },
  "language_info": {
   "codemirror_mode": {
    "name": "ipython",
    "version": 3
   },
   "file_extension": ".py",
   "mimetype": "text/x-python",
   "name": "python",
   "nbconvert_exporter": "python",
   "pygments_lexer": "ipython3",
   "version": "3.10.11"
  }
 },
 "nbformat": 4,
 "nbformat_minor": 2
}
